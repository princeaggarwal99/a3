{
 "cells": [
  {
   "cell_type": "code",
   "execution_count": 1,
   "metadata": {},
   "outputs": [],
   "source": [
    "# importing libraries :\n",
    "import cv2\n",
    "from matplotlib import pyplot\n",
    "from keras.utils import to_categorical\n",
    "from keras.models import Sequential\n",
    "from keras.layers import Conv2D\n",
    "from keras.layers import MaxPooling2D\n",
    "from keras.layers import Dense\n",
    "from keras.layers import Flatten\n",
    "from keras.optimizers import SGD\n",
    "from keras.preprocessing.image import ImageDataGenerator\n",
    "import os\n",
    "import shutil \n",
    "import requests\n",
    "import pandas as pd \n",
    "import csv \n",
    "import glob"
   ]
  },
  {
   "cell_type": "code",
   "execution_count": 47,
   "metadata": {},
   "outputs": [],
   "source": [
    "import numpy as np"
   ]
  },
  {
   "cell_type": "markdown",
   "metadata": {},
   "source": [
    "# # Mens(shirts) augmentation"
   ]
  },
  {
   "cell_type": "code",
   "execution_count": 3,
   "metadata": {},
   "outputs": [],
   "source": [
    "imageDir = \"C:/Users/prince/data/train/amazon_men_shirt/\" #specify your path here\n",
    "image_path_list = []\n",
    "valid_image_extensions = [\".jpg\", \".jpeg\", \".png\", \".tif\", \".tiff\"] #specify your vald extensions here\n",
    "valid_image_extensions = [item.lower() for item in valid_image_extensions]\n",
    "\n",
    "for file in os.listdir(imageDir):\n",
    "    extension = os.path.splitext(file)[1]\n",
    "    if extension.lower() not in valid_image_extensions:\n",
    "        continue\n",
    "    image_path_list.append(os.path.join(imageDir, file))\n",
    "\n",
    "for imagePath in image_path_list:\n",
    "    img = cv2.imread(imagePath)\n",
    "   \n",
    "   \n",
    "    if img is None:\n",
    "        continue\n",
    "\n",
    "    cv2.imshow(\"prince\", img)\n",
    "    \n",
    "    key = cv2.waitKey(100)\n",
    "    if key == 27: # escape\n",
    "        break\n",
    "\n",
    "cv2.destroyAllWindows()"
   ]
  },
  {
   "cell_type": "markdown",
   "metadata": {},
   "source": [
    "# rotation"
   ]
  },
  {
   "cell_type": "code",
   "execution_count": 30,
   "metadata": {},
   "outputs": [],
   "source": [
    "for imagePath in image_path_list:\n",
    "    img = cv2.imread(imagePath)\n",
    "    width,height=img.shape[:2]\n",
    "   \n",
    "    rotation_mat=cv2.getRotationMatrix2D((width/2,height/2),25,1)\n",
    "    rotated_img=cv2.warpAffine(img,rotation_mat,(width,height))\n",
    "    cv2.imshow(\"rotated\",rotated_img)\n",
    "    basename = os.path.basename(imagePath)  # e.g. MyPhoto.jpg\n",
    "    name = os.path.splitext(basename)[0]\n",
    "    cv2.imwrite('C:/Users/prince/j/' + name + '_rotated_img.jpg', rotated_img)\n",
    "    cv2.waitKey(100)\n",
    "    cv2.waitKey(100)\n",
    "    cv2.destroyAllWindows()"
   ]
  },
  {
   "cell_type": "markdown",
   "metadata": {},
   "source": [
    "# flipping"
   ]
  },
  {
   "cell_type": "code",
   "execution_count": 31,
   "metadata": {},
   "outputs": [],
   "source": [
    "for imagePath in image_path_list:\n",
    "    img = cv2.imread(imagePath)\n",
    "    flip=cv2.flip(img,0)\n",
    "    cv2.imshow(\"flipped images\",flip)\n",
    "    basename = os.path.basename(imagePath)  # e.g. MyPhoto.jpg\n",
    "    name = os.path.splitext(basename)[0]\n",
    "    cv2.imwrite('C:/Users/prince/j/' + name + '_flipped_img.jpg', flip)\n",
    "    cv2.waitKey(100)\n",
    "    cv2.waitKey(100)\n",
    "    cv2.destroyAllWindows()"
   ]
  },
  {
   "cell_type": "markdown",
   "metadata": {},
   "source": [
    "# brightness +"
   ]
  },
  {
   "cell_type": "code",
   "execution_count": 32,
   "metadata": {},
   "outputs": [],
   "source": [
    "for imagePath in image_path_list:\n",
    "    img = cv2.imread(imagePath)\n",
    "    m=np.ones(img.shape,dtype='uint8')*75\n",
    "    added=cv2.add(img,m)\n",
    "    cv2.imshow(\",brightness + \",added)\n",
    "    basename = os.path.basename(imagePath)  # e.g. MyPhoto.jpg\n",
    "    name = os.path.splitext(basename)[0]\n",
    "    cv2.imwrite('C:/Users/prince/j/' + name + '_brighted_img.jpg', added)\n",
    "    cv2.waitKey(100)\n",
    "    cv2.waitKey(100)\n",
    "    cv2.destroyAllWindows()"
   ]
  },
  {
   "cell_type": "markdown",
   "metadata": {},
   "source": [
    "# brightness (-)"
   ]
  },
  {
   "cell_type": "code",
   "execution_count": 33,
   "metadata": {},
   "outputs": [],
   "source": [
    "for imagePath in image_path_list:\n",
    "    img = cv2.imread(imagePath)\n",
    "    m=np.ones(img.shape,dtype='uint8')*75\n",
    "    subtract=cv2.subtract(img,m)\n",
    "    cv2.imshow(\",brightness - \",subtract)\n",
    "    basename = os.path.basename(imagePath)  # e.g. MyPhoto.jpg\n",
    "    name = os.path.splitext(basename)[0]\n",
    "    cv2.imwrite('C:/Users/prince/j/' + name + '_bright_low_img.jpg', subtract)\n",
    "    cv2.waitKey(100)\n",
    "    cv2.destroyAllWindows()"
   ]
  },
  {
   "cell_type": "markdown",
   "metadata": {},
   "source": [
    "# sharpening"
   ]
  },
  {
   "cell_type": "code",
   "execution_count": 34,
   "metadata": {},
   "outputs": [],
   "source": [
    "for imagePath in image_path_list:\n",
    "    img = cv2.imread(imagePath)\n",
    "    kernel = np.array([[-1,-1,-1], [-1,9,-1], [-1,-1,-1]])\n",
    "    sharped = cv2.filter2D(img, -1, kernel)\n",
    "   \n",
    "    cv2.imshow(\"more sharped   \",sharped)\n",
    "    basename = os.path.basename(imagePath)  # e.g. MyPhoto.jpg\n",
    "    name = os.path.splitext(basename)[0]\n",
    "    cv2.imwrite('C:/Users/prince/j/' + name + '_img.jpg', sharped)\n",
    "    cv2.waitKey(100)\n",
    "    cv2.destroyAllWindows()\n"
   ]
  },
  {
   "cell_type": "markdown",
   "metadata": {},
   "source": [
    "##  mens(t shirt) : augmentation"
   ]
  },
  {
   "cell_type": "code",
   "execution_count": null,
   "metadata": {},
   "outputs": [],
   "source": [
    "mens_t_shirt=\"C:/Users/prince/data/train/amazon_men_t_shirt\""
   ]
  },
  {
   "cell_type": "code",
   "execution_count": 35,
   "metadata": {},
   "outputs": [],
   "source": [
    "imageDir = \"C:/Users/prince/data/train/amazon_men_t_shirt/\" #specify your path here\n",
    "image_path_list = []\n",
    "valid_image_extensions = [\".jpg\", \".jpeg\", \".png\", \".tif\", \".tiff\"] #specify your vald extensions here\n",
    "valid_image_extensions = [item.lower() for item in valid_image_extensions]\n",
    "\n",
    "for file in os.listdir(imageDir):\n",
    "    extension = os.path.splitext(file)[1]\n",
    "    if extension.lower() not in valid_image_extensions:\n",
    "        continue\n",
    "    image_path_list.append(os.path.join(imageDir, file))\n",
    "\n",
    "for imagePath in image_path_list:\n",
    "    img = cv2.imread(imagePath)\n",
    "   \n",
    "   \n",
    "    if img is None:\n",
    "        continue\n",
    "\n",
    "    cv2.imshow(\"prince\", img)\n",
    "    \n",
    "    key = cv2.waitKey(100)\n",
    "    if key == 27: # escape\n",
    "        break\n",
    "\n",
    "cv2.destroyAllWindows()"
   ]
  },
  {
   "cell_type": "markdown",
   "metadata": {},
   "source": [
    "# rotation"
   ]
  },
  {
   "cell_type": "code",
   "execution_count": 36,
   "metadata": {},
   "outputs": [],
   "source": [
    "for imagePath in image_path_list:\n",
    "    img = cv2.imread(imagePath)\n",
    "    width,height=img.shape[:2]\n",
    "   \n",
    "    rotation_mat=cv2.getRotationMatrix2D((width/2,height/2),25,1)\n",
    "    rotated_img=cv2.warpAffine(img,rotation_mat,(width,height))\n",
    "    cv2.imshow(\"rotated\",rotated_img)\n",
    "    basename = os.path.basename(imagePath)  # e.g. MyPhoto.jpg\n",
    "    name = os.path.splitext(basename)[0]\n",
    "    cv2.imwrite('C:/Users/prince/k/' + name + '_rotated_img.jpg', rotated_img)\n",
    "    cv2.waitKey(100)\n",
    "    cv2.waitKey(100)\n",
    "    cv2.destroyAllWindows()"
   ]
  },
  {
   "cell_type": "markdown",
   "metadata": {},
   "source": [
    "# brightness(-)"
   ]
  },
  {
   "cell_type": "code",
   "execution_count": 37,
   "metadata": {},
   "outputs": [],
   "source": [
    "for imagePath in image_path_list:\n",
    "    img = cv2.imread(imagePath)\n",
    "    m=np.ones(img.shape,dtype='uint8')*75\n",
    "    subtract=cv2.subtract(img,m)\n",
    "    cv2.imshow(\",brightness - \",subtract)\n",
    "    basename = os.path.basename(imagePath)  # e.g. MyPhoto.jpg\n",
    "    name = os.path.splitext(basename)[0]\n",
    "    cv2.imwrite('C:/Users/prince/k/' + name + '_bright_low_img.jpg', subtract)\n",
    "    cv2.waitKey(100)\n",
    "    cv2.destroyAllWindows()"
   ]
  },
  {
   "cell_type": "markdown",
   "metadata": {},
   "source": [
    "# sharpening"
   ]
  },
  {
   "cell_type": "code",
   "execution_count": 38,
   "metadata": {},
   "outputs": [],
   "source": [
    "for imagePath in image_path_list:\n",
    "    img = cv2.imread(imagePath)\n",
    "    kernel = np.array([[-1,-1,-1], [-1,9,-1], [-1,-1,-1]])\n",
    "    sharped = cv2.filter2D(img, -1, kernel)\n",
    "   \n",
    "    cv2.imshow(\"more sharped   \",sharped)\n",
    "    basename = os.path.basename(imagePath)  # e.g. MyPhoto.jpg\n",
    "    name = os.path.splitext(basename)[0]\n",
    "    cv2.imwrite('C:/Users/prince/k/' + name + '_img.jpg', sharped)\n",
    "    cv2.waitKey(100)\n",
    "    cv2.destroyAllWindows()\n"
   ]
  },
  {
   "cell_type": "markdown",
   "metadata": {},
   "source": [
    "# brightness(+)"
   ]
  },
  {
   "cell_type": "code",
   "execution_count": 39,
   "metadata": {},
   "outputs": [],
   "source": [
    "for imagePath in image_path_list:\n",
    "    img = cv2.imread(imagePath)\n",
    "    m=np.ones(img.shape,dtype='uint8')*75\n",
    "    added=cv2.add(img,m)\n",
    "    cv2.imshow(\",brightness + \",added)\n",
    "    basename = os.path.basename(imagePath)  # e.g. MyPhoto.jpg\n",
    "    name = os.path.splitext(basename)[0]\n",
    "    cv2.imwrite('C:/Users/prince/k/' + name + '_brighted_img.jpg', added)\n",
    "    cv2.waitKey(100)\n",
    "    cv2.waitKey(100)\n",
    "    cv2.destroyAllWindows()"
   ]
  },
  {
   "cell_type": "markdown",
   "metadata": {},
   "source": [
    "# flipped"
   ]
  },
  {
   "cell_type": "code",
   "execution_count": 40,
   "metadata": {},
   "outputs": [],
   "source": [
    "for imagePath in image_path_list:\n",
    "    img = cv2.imread(imagePath)\n",
    "    flip=cv2.flip(img,0)\n",
    "    cv2.imshow(\"flipped images\",flip)\n",
    "    basename = os.path.basename(imagePath)  # e.g. MyPhoto.jpg\n",
    "    name = os.path.splitext(basename)[0]\n",
    "    cv2.imwrite('C:/Users/prince/k/' + name + '_flipped_img.jpg', flip)\n",
    "    cv2.waitKey(100)\n",
    "    cv2.waitKey(100)\n",
    "    cv2.destroyAllWindows()\n",
    "    "
   ]
  },
  {
   "cell_type": "markdown",
   "metadata": {},
   "source": [
    "# # Women(Sarees) : augmentation"
   ]
  },
  {
   "cell_type": "code",
   "execution_count": 41,
   "metadata": {},
   "outputs": [],
   "source": [
    "imageDir = \"C:/Users/prince/data/train/amazon_women_sarees/\" #specify your path here\n",
    "image_path_list = []\n",
    "valid_image_extensions = [\".jpg\", \".jpeg\", \".png\", \".tif\", \".tiff\"] #specify your vald extensions here\n",
    "valid_image_extensions = [item.lower() for item in valid_image_extensions]\n",
    "\n",
    "for file in os.listdir(imageDir):\n",
    "    extension = os.path.splitext(file)[1]\n",
    "    if extension.lower() not in valid_image_extensions:\n",
    "        continue\n",
    "    image_path_list.append(os.path.join(imageDir, file))\n",
    "\n",
    "for imagePath in image_path_list:\n",
    "    img = cv2.imread(imagePath)\n",
    "   \n",
    "   \n",
    "    if img is None:\n",
    "        continue\n",
    "\n",
    "    cv2.imshow(\"prince\", img)\n",
    "    \n",
    "    key = cv2.waitKey(100)\n",
    "    if key == 27: # escape\n",
    "        break\n",
    "\n",
    "cv2.destroyAllWindows()"
   ]
  },
  {
   "cell_type": "markdown",
   "metadata": {},
   "source": [
    "# flipped"
   ]
  },
  {
   "cell_type": "code",
   "execution_count": 42,
   "metadata": {},
   "outputs": [],
   "source": [
    "for imagePath in image_path_list:\n",
    "    img = cv2.imread(imagePath)\n",
    "    flip=cv2.flip(img,0)\n",
    "    cv2.imshow(\"flipped images\",flip)\n",
    "    basename = os.path.basename(imagePath)  # e.g. MyPhoto.jpg\n",
    "    name = os.path.splitext(basename)[0]\n",
    "    cv2.imwrite('C:/Users/prince/l/' + name + '_flipped_img.jpg', flip)\n",
    "    cv2.waitKey(100)\n",
    "    cv2.waitKey(100)\n",
    "    cv2.destroyAllWindows()"
   ]
  },
  {
   "cell_type": "markdown",
   "metadata": {},
   "source": [
    "#  brightness(+)"
   ]
  },
  {
   "cell_type": "code",
   "execution_count": 43,
   "metadata": {},
   "outputs": [],
   "source": [
    "for imagePath in image_path_list:\n",
    "    img = cv2.imread(imagePath)\n",
    "    m=np.ones(img.shape,dtype='uint8')*75\n",
    "    added=cv2.add(img,m)\n",
    "    cv2.imshow(\",brightness + \",added)\n",
    "    basename = os.path.basename(imagePath)  # e.g. MyPhoto.jpg\n",
    "    name = os.path.splitext(basename)[0]\n",
    "    cv2.imwrite('C:/Users/prince/l/' + name + '_brighted_img.jpg', added)\n",
    "    cv2.waitKey(100)\n",
    "    cv2.waitKey(100)\n",
    "    cv2.destroyAllWindows()"
   ]
  },
  {
   "cell_type": "markdown",
   "metadata": {},
   "source": [
    "# sharpening"
   ]
  },
  {
   "cell_type": "code",
   "execution_count": 44,
   "metadata": {},
   "outputs": [],
   "source": [
    "for imagePath in image_path_list:\n",
    "    img = cv2.imread(imagePath)\n",
    "    kernel = np.array([[-1,-1,-1], [-1,9,-1], [-1,-1,-1]])\n",
    "    sharped = cv2.filter2D(img, -1, kernel)\n",
    "   \n",
    "    cv2.imshow(\"more sharped   \",sharped)\n",
    "    basename = os.path.basename(imagePath)  # e.g. MyPhoto.jpg\n",
    "    name = os.path.splitext(basename)[0]\n",
    "    cv2.imwrite('C:/Users/prince/l/' + name + '_img.jpg', sharped)\n",
    "    cv2.waitKey(100)\n",
    "    cv2.destroyAllWindows()\n"
   ]
  },
  {
   "cell_type": "markdown",
   "metadata": {},
   "source": [
    "# brightness(-)"
   ]
  },
  {
   "cell_type": "code",
   "execution_count": 45,
   "metadata": {},
   "outputs": [],
   "source": [
    "for imagePath in image_path_list:\n",
    "    img = cv2.imread(imagePath)\n",
    "    m=np.ones(img.shape,dtype='uint8')*75\n",
    "    subtract=cv2.subtract(img,m)\n",
    "    cv2.imshow(\",brightness - \",subtract)\n",
    "    basename = os.path.basename(imagePath)  # e.g. MyPhoto.jpg\n",
    "    name = os.path.splitext(basename)[0]\n",
    "    cv2.imwrite('C:/Users/prince/l/' + name + '_bright_low_img.jpg', subtract)\n",
    "    cv2.waitKey(100)\n",
    "    cv2.destroyAllWindows()"
   ]
  },
  {
   "cell_type": "markdown",
   "metadata": {},
   "source": [
    "# Rotation"
   ]
  },
  {
   "cell_type": "code",
   "execution_count": 46,
   "metadata": {},
   "outputs": [],
   "source": [
    "for imagePath in image_path_list:\n",
    "    img = cv2.imread(imagePath)\n",
    "    width,height=img.shape[:2]\n",
    "   \n",
    "    rotation_mat=cv2.getRotationMatrix2D((width/2,height/2),25,1)\n",
    "    rotated_img=cv2.warpAffine(img,rotation_mat,(width,height))\n",
    "    cv2.imshow(\"rotated\",rotated_img)\n",
    "    basename = os.path.basename(imagePath)  # e.g. MyPhoto.jpg\n",
    "    name = os.path.splitext(basename)[0]\n",
    "    cv2.imwrite('C:/Users/prince/l/' + name + '_rotated_img.jpg', rotated_img)\n",
    "    cv2.waitKey(100)\n",
    "    cv2.waitKey(100)\n",
    "    cv2.destroyAllWindows()"
   ]
  },
  {
   "cell_type": "code",
   "execution_count": 48,
   "metadata": {},
   "outputs": [],
   "source": [
    "train_path=\"C:/Users/prince/train_images/\""
   ]
  },
  {
   "cell_type": "markdown",
   "metadata": {},
   "source": [
    "# MODEL BUILDING"
   ]
  },
  {
   "cell_type": "code",
   "execution_count": 49,
   "metadata": {},
   "outputs": [],
   "source": [
    "# MANUALLY RESIZING THE IMAGE SIZES FOR THE OUTPUT\n",
    "i_wd=150\n",
    "i_ht=150\n",
    "# BUILDING CNN MODEL LAYERS\n",
    "model = Sequential()\n",
    "\n",
    "#FIRST CONV+RELU LAYER\n",
    "model.add(Conv2D(32, (3, 3), activation='relu', padding='same', input_shape=(i_wd,i_ht,3)))\n",
    "model.add(MaxPooling2D((2, 2)))\n",
    "model.add(Conv2D(32, (3, 3), activation='relu', padding='same', input_shape=(i_wd,i_ht,3)))\n",
    "model.add(MaxPooling2D((2, 2)))\n",
    "\n",
    "\n",
    "#SECOND CONV+RELU LAYER\n",
    "model.add(Conv2D(64, (3, 3), activation='relu', padding='same', input_shape=(i_wd,i_ht,3)))\n",
    "model.add(MaxPooling2D((2, 2)))\n",
    "\n",
    "#THIRD CONV+RELU LAYER\n",
    "model.add(Conv2D(64, (3, 3), activation='relu', padding='same', input_shape=(i_wd,i_ht,3)))\n",
    "model.add(MaxPooling2D((2, 2)))\n",
    "\n",
    "\n",
    "\n",
    "#FULLY CONNECTED LAYER\n",
    "model.add(Flatten())\n",
    "model.add(Dense(512, activation='relu'))\n",
    "model.add(Dense(3, activation='softmax'))\n",
    "\n",
    "#COMPILING THE MODEL\n",
    "model.compile(loss=\"categorical_crossentropy\",optimizer=\"SGD\",metrics=['accuracy'])\n",
    "\n"
   ]
  },
  {
   "cell_type": "code",
   "execution_count": 58,
   "metadata": {},
   "outputs": [
    {
     "name": "stdout",
     "output_type": "stream",
     "text": [
      "Found 1800 images belonging to 3 classes.\n"
     ]
    }
   ],
   "source": [
    "train_data_gen=ImageDataGenerator(rescale=1./255)\n",
    "train_gen=train_data_gen.flow_from_directory(directory =train_path,target_size=(150, 150),batch_size=20,shuffle=True)"
   ]
  },
  {
   "cell_type": "code",
   "execution_count": 65,
   "metadata": {},
   "outputs": [],
   "source": [
    "test_path=\"C:/Users/prince/data/test\""
   ]
  },
  {
   "cell_type": "code",
   "execution_count": 66,
   "metadata": {},
   "outputs": [
    {
     "name": "stdout",
     "output_type": "stream",
     "text": [
      "Found 96 images belonging to 3 classes.\n"
     ]
    }
   ],
   "source": [
    "valid_data_gen=ImageDataGenerator(rescale=1./255)\n",
    "valid_gen=valid_data_gen.flow_from_directory(directory =test_path,target_size=(150, 150),batch_size=20,shuffle=True)"
   ]
  },
  {
   "cell_type": "code",
   "execution_count": 67,
   "metadata": {},
   "outputs": [
    {
     "data": {
      "text/plain": [
       "{'sarees': 0, 'shirt': 1, 'tshirts': 2}"
      ]
     },
     "execution_count": 67,
     "metadata": {},
     "output_type": "execute_result"
    }
   ],
   "source": [
    "train_gen.class_indices"
   ]
  },
  {
   "cell_type": "code",
   "execution_count": 68,
   "metadata": {},
   "outputs": [
    {
     "data": {
      "text/plain": [
       "{'sarees': 0, 'shirt': 1, 'tshirts': 2}"
      ]
     },
     "execution_count": 68,
     "metadata": {},
     "output_type": "execute_result"
    }
   ],
   "source": [
    "valid_gen.class_indices"
   ]
  },
  {
   "cell_type": "code",
   "execution_count": 69,
   "metadata": {},
   "outputs": [
    {
     "name": "stdout",
     "output_type": "stream",
     "text": [
      "Epoch 1/20\n",
      "90/90 [==============================] - 45s 495ms/step - loss: 1.0669 - accuracy: 0.4700 - val_loss: 1.0489 - val_accuracy: 0.3854\n",
      "Epoch 2/20\n",
      "90/90 [==============================] - 44s 493ms/step - loss: 0.9118 - accuracy: 0.6389 - val_loss: 0.6524 - val_accuracy: 0.8333\n",
      "Epoch 3/20\n",
      "90/90 [==============================] - 44s 493ms/step - loss: 0.7085 - accuracy: 0.6883 - val_loss: 0.5029 - val_accuracy: 0.8229\n",
      "Epoch 4/20\n",
      "90/90 [==============================] - 44s 493ms/step - loss: 0.6089 - accuracy: 0.7272 - val_loss: 0.4580 - val_accuracy: 0.8229\n",
      "Epoch 5/20\n",
      "90/90 [==============================] - 45s 495ms/step - loss: 0.5460 - accuracy: 0.7539 - val_loss: 0.4526 - val_accuracy: 0.8438\n",
      "Epoch 6/20\n",
      "90/90 [==============================] - 45s 495ms/step - loss: 0.4915 - accuracy: 0.7917 - val_loss: 0.3878 - val_accuracy: 0.8854\n",
      "Epoch 7/20\n",
      "90/90 [==============================] - 45s 498ms/step - loss: 0.4595 - accuracy: 0.8178 - val_loss: 0.3148 - val_accuracy: 0.9062\n",
      "Epoch 8/20\n",
      "90/90 [==============================] - 45s 496ms/step - loss: 0.3745 - accuracy: 0.8467 - val_loss: 0.2908 - val_accuracy: 0.8854\n",
      "Epoch 9/20\n",
      "90/90 [==============================] - 44s 493ms/step - loss: 0.3502 - accuracy: 0.8528 - val_loss: 0.2352 - val_accuracy: 0.9375\n",
      "Epoch 10/20\n",
      "90/90 [==============================] - 44s 494ms/step - loss: 0.2913 - accuracy: 0.8828 - val_loss: 0.2375 - val_accuracy: 0.9479\n",
      "Epoch 11/20\n",
      "90/90 [==============================] - 44s 493ms/step - loss: 0.2688 - accuracy: 0.8894 - val_loss: 0.2481 - val_accuracy: 0.9375\n",
      "Epoch 12/20\n",
      "90/90 [==============================] - 44s 492ms/step - loss: 0.2369 - accuracy: 0.9039 - val_loss: 0.2225 - val_accuracy: 0.9479\n",
      "Epoch 13/20\n",
      "90/90 [==============================] - 43s 478ms/step - loss: 0.1909 - accuracy: 0.9278 - val_loss: 0.2419 - val_accuracy: 0.9479\n",
      "Epoch 14/20\n",
      "90/90 [==============================] - 44s 493ms/step - loss: 0.1982 - accuracy: 0.9189 - val_loss: 0.1861 - val_accuracy: 0.9479\n",
      "Epoch 15/20\n",
      "90/90 [==============================] - 44s 493ms/step - loss: 0.1521 - accuracy: 0.9422 - val_loss: 0.2146 - val_accuracy: 0.9375\n",
      "Epoch 16/20\n",
      "90/90 [==============================] - 44s 494ms/step - loss: 0.1306 - accuracy: 0.9583 - val_loss: 0.1586 - val_accuracy: 0.9688\n",
      "Epoch 17/20\n",
      "90/90 [==============================] - 44s 493ms/step - loss: 0.1279 - accuracy: 0.9517 - val_loss: 0.2212 - val_accuracy: 0.9375\n",
      "Epoch 18/20\n",
      "90/90 [==============================] - 44s 494ms/step - loss: 0.1107 - accuracy: 0.9594 - val_loss: 0.1740 - val_accuracy: 0.9375\n",
      "Epoch 19/20\n",
      "90/90 [==============================] - 45s 497ms/step - loss: 0.0894 - accuracy: 0.9667 - val_loss: 0.1600 - val_accuracy: 0.9583\n",
      "Epoch 20/20\n",
      "90/90 [==============================] - 44s 491ms/step - loss: 0.0712 - accuracy: 0.9744 - val_loss: 0.1891 - val_accuracy: 0.9479\n"
     ]
    }
   ],
   "source": [
    "#FITTING , GENERATING ACCURACY AND LOSS\n",
    "history=model.fit(train_gen,validation_data=valid_gen,epochs = 20)\n"
   ]
  },
  {
   "cell_type": "code",
   "execution_count": 70,
   "metadata": {},
   "outputs": [
    {
     "data": {
      "text/plain": [
       "[0.18914224207401276, 0.9479166865348816]"
      ]
     },
     "execution_count": 70,
     "metadata": {},
     "output_type": "execute_result"
    }
   ],
   "source": [
    "## score for the test data or validation data \n",
    "m=model.evaluate(valid_gen,verbose=0)\n",
    "m"
   ]
  },
  {
   "cell_type": "code",
   "execution_count": 72,
   "metadata": {},
   "outputs": [
    {
     "name": "stdout",
     "output_type": "stream",
     "text": [
      "Model: \"sequential\"\n",
      "_________________________________________________________________\n",
      "Layer (type)                 Output Shape              Param #   \n",
      "=================================================================\n",
      "conv2d (Conv2D)              (None, 150, 150, 32)      896       \n",
      "_________________________________________________________________\n",
      "max_pooling2d (MaxPooling2D) (None, 75, 75, 32)        0         \n",
      "_________________________________________________________________\n",
      "conv2d_1 (Conv2D)            (None, 75, 75, 32)        9248      \n",
      "_________________________________________________________________\n",
      "max_pooling2d_1 (MaxPooling2 (None, 37, 37, 32)        0         \n",
      "_________________________________________________________________\n",
      "conv2d_2 (Conv2D)            (None, 37, 37, 64)        18496     \n",
      "_________________________________________________________________\n",
      "max_pooling2d_2 (MaxPooling2 (None, 18, 18, 64)        0         \n",
      "_________________________________________________________________\n",
      "conv2d_3 (Conv2D)            (None, 18, 18, 64)        36928     \n",
      "_________________________________________________________________\n",
      "max_pooling2d_3 (MaxPooling2 (None, 9, 9, 64)          0         \n",
      "_________________________________________________________________\n",
      "flatten (Flatten)            (None, 5184)              0         \n",
      "_________________________________________________________________\n",
      "dense (Dense)                (None, 512)               2654720   \n",
      "_________________________________________________________________\n",
      "dense_1 (Dense)              (None, 3)                 1539      \n",
      "=================================================================\n",
      "Total params: 2,721,827\n",
      "Trainable params: 2,721,827\n",
      "Non-trainable params: 0\n",
      "_________________________________________________________________\n"
     ]
    }
   ],
   "source": [
    "model.summary()"
   ]
  },
  {
   "cell_type": "code",
   "execution_count": 71,
   "metadata": {
    "scrolled": true
   },
   "outputs": [
    {
     "data": {
      "text/plain": [
       "{'loss': [1.0668864250183105,\n",
       "  0.9118030667304993,\n",
       "  0.7084735631942749,\n",
       "  0.6089418530464172,\n",
       "  0.5459620952606201,\n",
       "  0.49147823452949524,\n",
       "  0.45950934290885925,\n",
       "  0.37452492117881775,\n",
       "  0.35016897320747375,\n",
       "  0.29134345054626465,\n",
       "  0.26882511377334595,\n",
       "  0.2368682622909546,\n",
       "  0.1908932477235794,\n",
       "  0.19816255569458008,\n",
       "  0.15214106440544128,\n",
       "  0.13057821989059448,\n",
       "  0.12786947190761566,\n",
       "  0.11071102321147919,\n",
       "  0.08937760442495346,\n",
       "  0.07124031335115433],\n",
       " 'accuracy': [0.4699999988079071,\n",
       "  0.6388888955116272,\n",
       "  0.6883333325386047,\n",
       "  0.727222204208374,\n",
       "  0.7538889050483704,\n",
       "  0.7916666865348816,\n",
       "  0.8177777528762817,\n",
       "  0.846666693687439,\n",
       "  0.8527777791023254,\n",
       "  0.882777750492096,\n",
       "  0.8894444704055786,\n",
       "  0.9038888812065125,\n",
       "  0.9277777671813965,\n",
       "  0.9188888669013977,\n",
       "  0.9422222375869751,\n",
       "  0.9583333134651184,\n",
       "  0.9516666531562805,\n",
       "  0.9594444632530212,\n",
       "  0.9666666388511658,\n",
       "  0.9744444489479065],\n",
       " 'val_loss': [1.0488715171813965,\n",
       "  0.6523624062538147,\n",
       "  0.502943754196167,\n",
       "  0.45795705914497375,\n",
       "  0.4525820016860962,\n",
       "  0.38779404759407043,\n",
       "  0.3147963583469391,\n",
       "  0.2908487021923065,\n",
       "  0.23517417907714844,\n",
       "  0.23752205073833466,\n",
       "  0.24807147681713104,\n",
       "  0.2224593162536621,\n",
       "  0.24192434549331665,\n",
       "  0.18607346713542938,\n",
       "  0.21458303928375244,\n",
       "  0.15855181217193604,\n",
       "  0.22121600806713104,\n",
       "  0.1740046888589859,\n",
       "  0.1600433737039566,\n",
       "  0.18914222717285156],\n",
       " 'val_accuracy': [0.3854166567325592,\n",
       "  0.8333333134651184,\n",
       "  0.8229166865348816,\n",
       "  0.8229166865348816,\n",
       "  0.84375,\n",
       "  0.8854166865348816,\n",
       "  0.90625,\n",
       "  0.8854166865348816,\n",
       "  0.9375,\n",
       "  0.9479166865348816,\n",
       "  0.9375,\n",
       "  0.9479166865348816,\n",
       "  0.9479166865348816,\n",
       "  0.9479166865348816,\n",
       "  0.9375,\n",
       "  0.96875,\n",
       "  0.9375,\n",
       "  0.9375,\n",
       "  0.9583333134651184,\n",
       "  0.9479166865348816]}"
      ]
     },
     "execution_count": 71,
     "metadata": {},
     "output_type": "execute_result"
    }
   ],
   "source": [
    "history.history"
   ]
  },
  {
   "cell_type": "code",
   "execution_count": 73,
   "metadata": {},
   "outputs": [
    {
     "name": "stdout",
     "output_type": "stream",
     "text": [
      "dict_keys(['loss', 'accuracy', 'val_loss', 'val_accuracy'])\n"
     ]
    },
    {
     "data": {
      "image/png": "[encoded data removed]",
      "text/plain": [
       "<Figure size 432x288 with 1 Axes>"
      ]
     },
     "metadata": {
      "needs_background": "light"
     },
     "output_type": "display_data"
    },
    {
     "data": {
      "image/png": "[encoded data removed]",
      "text/plain": [
       "<Figure size 432x288 with 1 Axes>"
      ]
     },
     "metadata": {
      "needs_background": "light"
     },
     "output_type": "display_data"
    }
   ],
   "source": [
    "import matplotlib.pyplot as plt\n",
    "%matplotlib inline\n",
    "\n",
    "# list all data in history\n",
    "print(history.history.keys())\n",
    "# summarize history for accuracy\n",
    "plt.plot(history.history['accuracy'])\n",
    "plt.plot(history.history['val_accuracy'])\n",
    "\n",
    "plt.title('model accuracy')\n",
    "plt.ylabel('accuracy')\n",
    "plt.xlabel('epoch')\n",
    "plt.legend(['train', 'test'], loc='upper left')\n",
    "plt.show()\n",
    "# summarize history for loss\n",
    "plt.plot(history.history['loss'])\n",
    "plt.plot(history.history['val_loss'])\n",
    "\n",
    "plt.title('model loss')\n",
    "plt.ylabel('loss')\n",
    "plt.xlabel('epoch')\n",
    "plt.legend(['train', 'test'], loc='upper left')\n",
    "plt.show()"
   ]
  },
  {
   "cell_type": "code",
   "execution_count": 185,
   "metadata": {},
   "outputs": [
    {
     "name": "stdout",
     "output_type": "stream",
     "text": [
      "INFO:tensorflow:Assets written to: augmentation\\assets\n"
     ]
    }
   ],
   "source": [
    "model.save(\"augmentation\")"
   ]
  },
  {
   "cell_type": "code",
   "execution_count": 90,
   "metadata": {},
   "outputs": [],
   "source": [
    "test_img=\"C:/Users/prince/Desktop/test/\""
   ]
  },
  {
   "cell_type": "code",
   "execution_count": 91,
   "metadata": {},
   "outputs": [],
   "source": [
    "from keras.preprocessing.image import array_to_img , img_to_array , load_img"
   ]
  },
  {
   "cell_type": "code",
   "execution_count": 122,
   "metadata": {},
   "outputs": [],
   "source": [
    "image_dir='C:/Users/prince/Desktop/test/'"
   ]
  },
  {
   "cell_type": "code",
   "execution_count": 289,
   "metadata": {},
   "outputs": [],
   "source": [
    "from keras.models import load_model\n",
    "img_row, img_height, img_width=32,32,3\n",
    "scale=8\n",
    "color=True\n",
    "classifier=load_model(\"augmentation\")\n",
    "def draw_test(name,input_im,result,scale,img_row,img_height):\n",
    "    black=[0,0,0]\n",
    "    result=int(result)\n",
    "    if result==0.:\n",
    "        pred=\"saree\"\n",
    "    if result==1.:\n",
    "        pred=\"shirt\"\n",
    "    if result==1.:\n",
    "        pred=\"t_shirt\"\n",
    "    \n",
    "    expanded_img = cv2.copyMakeBorder(input_im,0,0,0,imageL.shape[0]*2,cv2.BORDER_CONSTANT,value=black)\n",
    "    if color==False:\n",
    "        expanded_img = cv2.cvtColor(expanded_img,cv2.COLOR_GRAY2BGR)\n",
    "    cv2.putText(expanded_img,str(pred),(300,80),cv2.FONT_HERSHEY_COMPLEX_SMALL,3,(0,255,0),2)\n",
    "    cv2.imshow(name,expanded_img)"
   ]
  },
  {
   "cell_type": "code",
   "execution_count": 290,
   "metadata": {},
   "outputs": [
    {
     "ename": "TypeError",
     "evalue": "only size-1 arrays can be converted to Python scalars",
     "output_type": "error",
     "traceback": [
      "\u001b[1;31m---------------------------------------------------------------------------\u001b[0m",
      "\u001b[1;31mTypeError\u001b[0m                                 Traceback (most recent call last)",
      "\u001b[1;32m<ipython-input-290-7192eaf091e1>\u001b[0m in \u001b[0;36m<module>\u001b[1;34m\u001b[0m\n\u001b[0;32m      4\u001b[0m \u001b[0minput_im\u001b[0m\u001b[1;33m=\u001b[0m\u001b[0minput_im\u001b[0m\u001b[1;33m.\u001b[0m\u001b[0mreshape\u001b[0m\u001b[1;33m(\u001b[0m\u001b[1;36m1\u001b[0m\u001b[1;33m,\u001b[0m\u001b[1;36m150\u001b[0m\u001b[1;33m,\u001b[0m\u001b[1;36m150\u001b[0m\u001b[1;33m,\u001b[0m\u001b[0mimg_width\u001b[0m\u001b[1;33m)\u001b[0m\u001b[1;33m\u001b[0m\u001b[1;33m\u001b[0m\u001b[0m\n\u001b[0;32m      5\u001b[0m \u001b[0mresult\u001b[0m\u001b[1;33m=\u001b[0m\u001b[0mmodel\u001b[0m\u001b[1;33m.\u001b[0m\u001b[0mpredict_classes\u001b[0m\u001b[1;33m(\u001b[0m\u001b[0minput_im\u001b[0m\u001b[1;33m)\u001b[0m\u001b[1;33m\u001b[0m\u001b[1;33m\u001b[0m\u001b[0m\n\u001b[1;32m----> 6\u001b[1;33m \u001b[0mdraw_test\u001b[0m\u001b[1;33m(\u001b[0m\u001b[1;34m\"prediction\"\u001b[0m\u001b[1;33m,\u001b[0m\u001b[0mresult\u001b[0m\u001b[1;33m,\u001b[0m\u001b[0mimageL\u001b[0m\u001b[1;33m,\u001b[0m\u001b[0mscale\u001b[0m\u001b[1;33m,\u001b[0m\u001b[0mimg_row\u001b[0m\u001b[1;33m,\u001b[0m\u001b[0mimg_height\u001b[0m\u001b[1;33m)\u001b[0m\u001b[1;33m\u001b[0m\u001b[1;33m\u001b[0m\u001b[0m\n\u001b[0m\u001b[0;32m      7\u001b[0m \u001b[0mcv2\u001b[0m\u001b[1;33m.\u001b[0m\u001b[0mwaitKey\u001b[0m\u001b[1;33m(\u001b[0m\u001b[1;36m1000\u001b[0m\u001b[1;33m)\u001b[0m\u001b[1;33m\u001b[0m\u001b[1;33m\u001b[0m\u001b[0m\n\u001b[0;32m      8\u001b[0m \u001b[0mcv2\u001b[0m\u001b[1;33m.\u001b[0m\u001b[0mdestroyAllWindows\u001b[0m\u001b[1;33m(\u001b[0m\u001b[1;33m)\u001b[0m\u001b[1;33m\u001b[0m\u001b[1;33m\u001b[0m\u001b[0m\n",
      "\u001b[1;32m<ipython-input-289-7c6dccf4c079>\u001b[0m in \u001b[0;36mdraw_test\u001b[1;34m(name, input_im, result, scale, img_row, img_height)\u001b[0m\n\u001b[0;32m      6\u001b[0m \u001b[1;32mdef\u001b[0m \u001b[0mdraw_test\u001b[0m\u001b[1;33m(\u001b[0m\u001b[0mname\u001b[0m\u001b[1;33m,\u001b[0m\u001b[0minput_im\u001b[0m\u001b[1;33m,\u001b[0m\u001b[0mresult\u001b[0m\u001b[1;33m,\u001b[0m\u001b[0mscale\u001b[0m\u001b[1;33m,\u001b[0m\u001b[0mimg_row\u001b[0m\u001b[1;33m,\u001b[0m\u001b[0mimg_height\u001b[0m\u001b[1;33m)\u001b[0m\u001b[1;33m:\u001b[0m\u001b[1;33m\u001b[0m\u001b[1;33m\u001b[0m\u001b[0m\n\u001b[0;32m      7\u001b[0m     \u001b[0mblack\u001b[0m\u001b[1;33m=\u001b[0m\u001b[1;33m[\u001b[0m\u001b[1;36m0\u001b[0m\u001b[1;33m,\u001b[0m\u001b[1;36m0\u001b[0m\u001b[1;33m,\u001b[0m\u001b[1;36m0\u001b[0m\u001b[1;33m]\u001b[0m\u001b[1;33m\u001b[0m\u001b[1;33m\u001b[0m\u001b[0m\n\u001b[1;32m----> 8\u001b[1;33m     \u001b[0mresult\u001b[0m\u001b[1;33m=\u001b[0m\u001b[0mint\u001b[0m\u001b[1;33m(\u001b[0m\u001b[0mresult\u001b[0m\u001b[1;33m)\u001b[0m\u001b[1;33m\u001b[0m\u001b[1;33m\u001b[0m\u001b[0m\n\u001b[0m\u001b[0;32m      9\u001b[0m     \u001b[1;32mif\u001b[0m \u001b[0mresult\u001b[0m\u001b[1;33m==\u001b[0m\u001b[1;36m0.\u001b[0m\u001b[1;33m:\u001b[0m\u001b[1;33m\u001b[0m\u001b[1;33m\u001b[0m\u001b[0m\n\u001b[0;32m     10\u001b[0m         \u001b[0mpred\u001b[0m\u001b[1;33m=\u001b[0m\u001b[1;34m\"saree\"\u001b[0m\u001b[1;33m\u001b[0m\u001b[1;33m\u001b[0m\u001b[0m\n",
      "\u001b[1;31mTypeError\u001b[0m: only size-1 arrays can be converted to Python scalars"
     ]
    }
   ],
   "source": [
    "img = load_img(r'C:/Users/prince/Desktop/test/'+str(i)+'.jpg',target_size=(150,150,3))\n",
    "input_im=img_to_array(img)\n",
    "imageL=cv2.resize(input_im,None,fx=scale,fy=scale,interpolation=cv2.INTER_CUBIC)\n",
    "input_im=input_im.reshape(1,150,150,img_width)\n",
    "result=model.predict_classes(input_im)\n",
    "draw_test(\"prediction\",result,imageL,scale,img_row,img_height)\n",
    "cv2.waitKey(1000)\n",
    "cv2.destroyAllWindows()   "
   ]
  },
  {
   "cell_type": "code",
   "execution_count": 291,
   "metadata": {},
   "outputs": [
    {
     "data": {
      "text/plain": [
       "array([1], dtype=int64)"
      ]
     },
     "execution_count": 291,
     "metadata": {},
     "output_type": "execute_result"
    }
   ],
   "source": [
    "result"
   ]
  }
 ],
 "metadata": {
  "kernelspec": {
   "display_name": "Python 3",
   "language": "python",
   "name": "python3"
  },
  "language_info": {
   "codemirror_mode": {
    "name": "ipython",
    "version": 3
   },
   "file_extension": ".py",
   "mimetype": "text/x-python",
   "name": "python",
   "nbconvert_exporter": "python",
   "pygments_lexer": "ipython3",
   "version": "3.7.4"
  }
 },
 "nbformat": 4,
 "nbformat_minor": 2
}
